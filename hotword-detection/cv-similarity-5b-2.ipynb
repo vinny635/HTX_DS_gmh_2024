{
 "cells": [
  {
   "cell_type": "code",
   "execution_count": null,
   "metadata": {},
   "outputs": [
    {
     "name": "stderr",
     "output_type": "stream",
     "text": [
      "c:\\Users\\min hua\\miniconda3\\envs\\pytorch_310_hf\\lib\\site-packages\\InstructorEmbedding\\instructor.py:7: TqdmExperimentalWarning: Using `tqdm.autonotebook.tqdm` in notebook mode. Use `tqdm.tqdm` instead to force console mode (e.g. in jupyter console)\n",
      "  from tqdm.autonotebook import trange\n"
     ]
    }
   ],
   "source": [
    "# Native libraries\n",
    "from tqdm.notebook import tqdm\n",
    "\n",
    "# third-party libraries\n",
    "from sklearn.metrics.pairwise import cosine_similarity\n",
    "import pandas as pd\n",
    "import numpy as np\n",
    "from InstructorEmbedding import INSTRUCTOR"
   ]
  },
  {
   "cell_type": "code",
   "execution_count": null,
   "metadata": {},
   "outputs": [],
   "source": [
    "# inputs\n",
    "model_name = 'hkunlp/instructor-large'\n",
    "\n",
    "# Set similarity threshold (after experimenting, 0.85 seems good)\n",
    "threshold = 0.77\n",
    "\n",
    "input_file_dir = r'common_voice/cv-valid-dev-q4.csv'\n",
    "output_file_dir = r'common_voice/cv-valid-dev-q5.csv'\n",
    "\n",
    "# Define hot words\n",
    "hot_words = [\"be careful\", \"destroy\", \"stranger\"]"
   ]
  },
  {
   "cell_type": "code",
   "execution_count": 23,
   "metadata": {},
   "outputs": [
    {
     "name": "stdout",
     "output_type": "stream",
     "text": [
      "load INSTRUCTOR_Transformer\n",
      "max_seq_length  512\n"
     ]
    },
    {
     "data": {
      "application/vnd.jupyter.widget-view+json": {
       "model_id": "4c87ecd4273346a48fbf9d6ca8eab9e9",
       "version_major": 2,
       "version_minor": 0
      },
      "text/plain": [
       "0it [00:00, ?it/s]"
      ]
     },
     "metadata": {},
     "output_type": "display_data"
    }
   ],
   "source": [
    "\n",
    "# Load model\n",
    "model = INSTRUCTOR(model_name)\n",
    "\n",
    "# prepare hot words' embedding\n",
    "hot_word_embeddings = {}\n",
    "instruction = \"Represent the text for semantic similarity:\"\n",
    "for word in hot_words:\n",
    "    hot_word_embeddings[word] = model.encode([[instruction, word]])\n",
    "\n",
    "# prepare similarity boolean array\n",
    "similarity_bool_arr = []\n",
    "\n",
    "# Load csv file to run through every text\n",
    "df = pd.read_csv(input_file_dir)\n",
    "for _, row in tqdm(df.iterrows()):\n",
    "    # Clean and split text into words\n",
    "    input_text = str(row['text']).lower()\n",
    "\n",
    "    # prepare input text's embeddings\n",
    "    input_text_embedding = model.encode([[instruction, input_text]])\n",
    "    \n",
    "    # Check similarity between each hot word and input text embeddings\n",
    "    for hot_word, hot_word_embedding in hot_word_embeddings.items():\n",
    "        similarity = cosine_similarity(\n",
    "            input_text_embedding.reshape(1, -1),\n",
    "            hot_word_embedding.reshape(1, -1)\n",
    "        )[0][0]\n",
    "        \n",
    "    # condition for similarity column; if more than threshold, means very similar\n",
    "    if similarity > threshold:\n",
    "        similarity_bool_arr.append(True)\n",
    "    else:\n",
    "        similarity_bool_arr.append(False)\n",
    "\n",
    "\n",
    "# Save results\n",
    "df['similarity'] = similarity_bool_arr\n",
    "df.to_csv(output_file_dir, index=False)"
   ]
  },
  {
   "cell_type": "code",
   "execution_count": null,
   "metadata": {},
   "outputs": [
    {
     "data": {
      "text/plain": [
       "0.7751745"
      ]
     },
     "execution_count": 19,
     "metadata": {},
     "output_type": "execute_result"
    }
   ],
   "source": [
    "# # # Use this test script to test for the threshold\n",
    "# # # 3006, 1498, 900\n",
    "# input_text = str(df.iloc[900]['text']).lower()\n",
    "\n",
    "# # prepare input text's embeddings\n",
    "# input_text_embedding = model.encode([[instruction, input_text]])\n",
    "\n",
    "# # Check similarity between each hot word and input text embeddings\n",
    "# for hot_word, hot_word_embedding in hot_word_embeddings.items():\n",
    "#     similarity = cosine_similarity(\n",
    "#         input_text_embedding.reshape(1, -1),\n",
    "#         hot_word_embedding.reshape(1, -1)\n",
    "#     )[0][0]\n",
    "\n",
    "# similarity"
   ]
  },
  {
   "cell_type": "code",
   "execution_count": null,
   "metadata": {},
   "outputs": [],
   "source": []
  }
 ],
 "metadata": {
  "kernelspec": {
   "display_name": "pytorch_310_hf",
   "language": "python",
   "name": "python3"
  },
  "language_info": {
   "codemirror_mode": {
    "name": "ipython",
    "version": 3
   },
   "file_extension": ".py",
   "mimetype": "text/x-python",
   "name": "python",
   "nbconvert_exporter": "python",
   "pygments_lexer": "ipython3",
   "version": "3.10.14"
  }
 },
 "nbformat": 4,
 "nbformat_minor": 2
}
